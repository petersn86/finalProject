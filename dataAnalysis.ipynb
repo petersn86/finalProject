{
 "cells": [
  {
   "cell_type": "code",
   "execution_count": null,
   "metadata": {},
   "outputs": [],
   "source": [
    "from ucimlrepo import fetch_ucirepo \n",
    "import pandas as pd\n",
    "  \n",
    "# fetch dataset \n",
    "wine = fetch_ucirepo(id=109) \n",
    "  \n",
    "# data (as pandas dataframes) \n",
    "X = wine.data.features \n",
    "y = wine.data.targets \n",
    "  \n",
    "# metadata \n",
    "print(wine.metadata) \n",
    "  \n",
    "# variable information \n",
    "print(wine.variables) \n",
    "\n",
    "\n"
   ]
  },
  {
   "cell_type": "code",
   "execution_count": 2,
   "metadata": {},
   "outputs": [],
   "source": [
    "dfAlc = X.Alcohol\n",
    "dfMal = X.Malicacid\n",
    "dfAsh = X.Ash\n",
    "dfAlk = X.Alcalinity_of_ash\n",
    "dfMag = X.Magnesium\n",
    "dfPhe = X.Total_phenols\n",
    "dfFlv = X.Flavanoids\n",
    "dfNfv = X.Nonflavanoid_phenols\n",
    "dfPro = X.Proanthocyanins\n",
    "dfPrl = X.Proline\n",
    "\n",
    "#maybe put these into a list and iterate? idk\n"
   ]
  },
  {
   "cell_type": "code",
   "execution_count": 38,
   "metadata": {},
   "outputs": [
    {
     "name": "stdout",
     "output_type": "stream",
     "text": [
      "Series: Alcohol\n",
      "Series: Malic_acid\n",
      "Series: Ash\n",
      "Series: Alcalinity_of_ash\n",
      "Series: Magnesium\n",
      "Series: Total_phenols\n",
      "Series: Flavanoids\n",
      "Series: Nonflavanoid_phenols\n",
      "Series: Proanthocyanins\n",
      "Series: Proline\n",
      "           Alcohol  Malic_acid       Ash  Alcalinity_of_ash   Magnesium  \\\n",
      "Class 1  13.721833    1.992833  2.437333          16.930000  106.033333   \n",
      "Class 2  12.285634    1.938451  2.258310          20.342254   95.028169   \n",
      "Class 3  13.160000    3.375957  2.439574          21.489362   98.829787   \n",
      "\n",
      "         Total_phenols  Flavanoids  Nonflavanoid_phenols  Proanthocyanins  \\\n",
      "Class 1       2.825833    2.942167              0.289833         1.874667   \n",
      "Class 2       2.252254    2.090423              0.362676         1.637606   \n",
      "Class 3       1.682340    0.771489              0.452553         1.158085   \n",
      "\n",
      "             Proline  \n",
      "Class 1  1105.783333  \n",
      "Class 2   521.056338  \n",
      "Class 3   629.893617  \n"
     ]
    }
   ],
   "source": [
    "'''cult1 = pd.Series(dfAlc, index = range(59))\n",
    "cult2 = pd.Series(dfAlc, index = range(60, 130))\n",
    "cult3 = pd.Series(dfAlc, index = range(131, 178))\n",
    "\n",
    "cult1\n",
    "average_value = cult1.mean()\n",
    "print(\"1st Class Alcohol Average:\", average_value)\n",
    "average_value = cult2.mean()\n",
    "print(\"2nd Class Alcohol Average:\", average_value)\n",
    "average_value = cult3.mean()\n",
    "print(\"3rd Class Alcohol Average:\", average_value)'''\n",
    "#previous code i left there just incase\n",
    "\n",
    "\n",
    "#creates a list of data frames, dataframes being the name of the list\n",
    "dataframes = [dfAlc, dfMal, dfAsh, dfAlk, dfMag, dfPhe, dfFlv, dfNfv, dfPro, dfPrl]\n",
    "\n",
    "#defines the ranges of indexes\n",
    "index_ranges = [(0, 59), (60, 130), (131, 178)]\n",
    "\n",
    "#this just creates labels for the averages\n",
    "class_labels = [\"Class 1\", \"Class 2\", \"Class 3\"]\n",
    "\n",
    "#creates another dataframe to store the average results\n",
    "result_df = pd.DataFrame(index=class_labels)\n",
    "\n",
    "# Iterate through each Series\n",
    "for dataframes, series in zip(['Alcohol', 'Malic_acid', 'Ash', 'Alcalinity_of_ash', 'Magnesium',\n",
    "                                'Total_phenols', 'Flavanoids', 'Nonflavanoid_phenols', 'Proanthocyanins', 'Proline'], dataframes):\n",
    "    print(f\"Series: {dataframes}\")  ##prints the names of the dataframes, the next commented out lines will print the indexes and values under the names\n",
    "    \n",
    "    # Iterate through the values of the series         ##comented out because these 4 lines print out each value of each index per series\n",
    "    #for index, value in series.items():\n",
    "        # Perform operations on each value as needed\n",
    "       # print(f\"Index: {index}, Value: {value}\")\n",
    "\n",
    "    # Iterate through the ranges and prints their averages\n",
    "    for i, (start, end) in enumerate(index_ranges):\n",
    "        avg_value = series.loc[start:end].mean()\n",
    "        result_df.loc[class_labels[i], dataframes] = avg_value\n",
    "\n",
    "\n",
    "print(result_df)\n"
   ]
  }
 ],
 "metadata": {
  "kernelspec": {
   "display_name": "Python 3",
   "language": "python",
   "name": "python3"
  },
  "language_info": {
   "codemirror_mode": {
    "name": "ipython",
    "version": 3
   },
   "file_extension": ".py",
   "mimetype": "text/x-python",
   "name": "python",
   "nbconvert_exporter": "python",
   "pygments_lexer": "ipython3",
   "version": "3.11.5"
  }
 },
 "nbformat": 4,
 "nbformat_minor": 2
}
