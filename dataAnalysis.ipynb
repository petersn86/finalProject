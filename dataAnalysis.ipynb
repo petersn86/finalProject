{
 "cells": [
  {
   "cell_type": "code",
   "execution_count": null,
   "metadata": {},
   "outputs": [],
   "source": [
    "from ucimlrepo import fetch_ucirepo \n",
    "import pandas as pd\n",
    "  \n",
    "# fetch dataset \n",
    "wine = fetch_ucirepo(id=109) \n",
    "  \n",
    "# data (as pandas dataframes) \n",
    "X = wine.data.features \n",
    "y = wine.data.targets \n",
    "  \n",
    "# metadata \n",
    "print(wine.metadata) \n",
    "  \n",
    "# variable information \n",
    "print(wine.variables) \n",
    "\n",
    "\n"
   ]
  },
  {
   "cell_type": "code",
   "execution_count": null,
   "metadata": {},
   "outputs": [],
   "source": [
    "dfAlc = X.Alcohol\n",
    "dfMal = X.Malicacid\n",
    "dfAsh = X.Ash\n",
    "dfAlk = X.Alcalinity_of_ash\n",
    "dfMag = X.Magnesium\n",
    "dfPhe = X.Total_phenols\n",
    "dfFlv = X.Flavanoids\n",
    "dfNfv = X.Nonflavanoid_phenols\n",
    "dfPro = X.Proanthocyanins\n",
    "dfPrl = X.Proline\n",
    "\n",
    "#maybe put these into a list and iterate? idk\n"
   ]
  },
  {
   "cell_type": "code",
   "execution_count": null,
   "metadata": {},
   "outputs": [],
   "source": [
    "cult1 = pd.Series(dfAlc, index = range(59))\n",
    "\n",
    "cult1"
   ]
  }
 ],
 "metadata": {
  "kernelspec": {
   "display_name": "Python 3",
   "language": "python",
   "name": "python3"
  },
  "language_info": {
   "codemirror_mode": {
    "name": "ipython",
    "version": 3
   },
   "file_extension": ".py",
   "mimetype": "text/x-python",
   "name": "python",
   "nbconvert_exporter": "python",
   "pygments_lexer": "ipython3",
   "version": "3.11.3"
  }
 },
 "nbformat": 4,
 "nbformat_minor": 2
}
