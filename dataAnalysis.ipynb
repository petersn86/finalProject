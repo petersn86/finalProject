{
 "cells": [
  {
   "cell_type": "code",
   "execution_count": null,
   "metadata": {},
   "outputs": [],
   "source": [
    "#set up dataset\n",
    "from ucimlrepo import fetch_ucirepo \n",
    "import pandas as pd\n",
    "  \n",
    "# fetch dataset \n",
    "wine = fetch_ucirepo(id=109) \n",
    "  \n",
    "# data (as pandas dataframes) \n",
    "X = wine.data.features \n",
    "y = wine.data.targets \n",
    "  \n",
    "# metadata \n",
    "print(wine.metadata) \n",
    "  \n",
    "# variable information \n",
    "print(wine.variables) \n",
    "\n",
    "\n"
   ]
  },
  {
   "cell_type": "code",
   "execution_count": null,
   "metadata": {},
   "outputs": [],
   "source": [
    "#isolate each consituent into different dataframes\n",
    "dfAlc = X.Alcohol\n",
    "dfMal = X.Malicacid\n",
    "dfAsh = X.Ash\n",
    "dfAlk = X.Alcalinity_of_ash\n",
    "dfMag = X.Magnesium\n",
    "dfPhe = X.Total_phenols\n",
    "dfFlv = X.Flavanoids\n",
    "dfNfv = X.Nonflavanoid_phenols\n",
    "dfPro = X.Proanthocyanins\n",
    "dfPrl = X.Proline\n"
   ]
  },
  {
   "cell_type": "code",
   "execution_count": null,
   "metadata": {},
   "outputs": [
    {
     "name": "stdout",
     "output_type": "stream",
     "text": [
      "     Alcohol  Malicacid       Ash  Ash Alkalinity   Magnesium  Total Phenols  \\\n",
      "0  13.744746   2.010678  2.455593       17.037288  106.338983       2.840169   \n",
      "1  12.282143   1.898857  2.242857       20.212857   94.757143       2.261143   \n",
      "2  13.132979   3.317447  2.430638       21.351064   99.382979       1.670851   \n",
      "\n",
      "   Flavanoids  Non-Flavanoids  Proanthocyanins      Proline  \n",
      "0    2.982373        0.290000         1.899322  1115.711864  \n",
      "1    2.085571        0.362857         1.634286   518.642857  \n",
      "2    0.781915        0.445106         1.149362   631.382979  \n"
     ]
    }
   ],
   "source": [
    "#Find average conc for each constituent in each cultivator (0 = Cultivator 1, 1 = Cultivator 2, 2 = Cultivator 3)\n",
    "dataFrames = [dfAlc, dfMal, dfAsh, dfAlk, dfMag, dfPhe, dfFlv, dfNfv, dfPro, dfPrl]\n",
    "cult1 = []\n",
    "cult2 = []\n",
    "cult3 = []\n",
    "\n",
    "for x in dataFrames:\n",
    "    cult1.append((pd.Series(x, index = range(59))).mean())\n",
    "    cult2.append((pd.Series(x, index = range(59, 129))).mean())\n",
    "    cult3.append((pd.Series(x, index = range(130, 177))).mean())\n",
    "\n",
    "\n",
    "\n",
    "data = [cult1, cult2, cult3]\n",
    "\n",
    "averages = pd.DataFrame(data, columns=['Alcohol', 'Malicacid', 'Ash', 'Ash Alkalinity', 'Magnesium', 'Total Phenols',  'Flavanoids', 'Non-Flavanoids', 'Proanthocyanins', 'Proline'])\n",
    "                               \n",
    "\n",
    "print(averages)"
   ]
  }
 ],
 "metadata": {
  "kernelspec": {
   "display_name": "Python 3",
   "language": "python",
   "name": "python3"
  },
  "language_info": {
   "codemirror_mode": {
    "name": "ipython",
    "version": 3
   },
   "file_extension": ".py",
   "mimetype": "text/x-python",
   "name": "python",
   "nbconvert_exporter": "python",
   "pygments_lexer": "ipython3",
   "version": "3.11.3"
  }
 },
 "nbformat": 4,
 "nbformat_minor": 2
}
