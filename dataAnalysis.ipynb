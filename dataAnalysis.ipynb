{
 "cells": [
  {
   "cell_type": "code",
   "execution_count": 29,
   "metadata": {},
   "outputs": [
    {
     "name": "stdout",
     "output_type": "stream",
     "text": [
      "{'uci_id': 109, 'name': 'Wine', 'repository_url': 'https://archive.ics.uci.edu/dataset/109/wine', 'data_url': 'https://archive.ics.uci.edu/static/public/109/data.csv', 'abstract': 'Using chemical analysis to determine the origin of wines', 'area': 'Physics and Chemistry', 'tasks': ['Classification'], 'characteristics': ['Tabular'], 'num_instances': 178, 'num_features': 13, 'feature_types': ['Integer', 'Real'], 'demographics': [], 'target_col': ['class'], 'index_col': None, 'has_missing_values': 'no', 'missing_values_symbol': None, 'year_of_dataset_creation': 1992, 'last_updated': 'Mon Aug 28 2023', 'dataset_doi': '10.24432/C5PC7J', 'creators': ['Stefan Aeberhard', 'M. Forina'], 'intro_paper': {'title': 'Comparative analysis of statistical pattern recognition methods in high dimensional settings', 'authors': 'S. Aeberhard, D. Coomans, O. Vel', 'published_in': 'Pattern Recognition', 'year': 1994, 'url': 'https://www.semanticscholar.org/paper/83dc3e4030d7b9fbdbb4bde03ce12ab70ca10528', 'doi': '10.1016/0031-3203(94)90145-7'}, 'additional_info': {'summary': 'These data are the results of a chemical analysis of wines grown in the same region in Italy but derived from three different cultivars. The analysis determined the quantities of 13 constituents found in each of the three types of wines. \\r\\n\\r\\nI think that the initial data set had around 30 variables, but for some reason I only have the 13 dimensional version. I had a list of what the 30 or so variables were, but a.)  I lost it, and b.), I would not know which 13 variables are included in the set.\\r\\n\\r\\nThe attributes are (dontated by Riccardo Leardi, riclea@anchem.unige.it )\\r\\n1) Alcohol\\r\\n2) Malic acid\\r\\n3) Ash\\r\\n4) Alcalinity of ash  \\r\\n5) Magnesium\\r\\n6) Total phenols\\r\\n7) Flavanoids\\r\\n8) Nonflavanoid phenols\\r\\n9) Proanthocyanins\\r\\n10)Color intensity\\r\\n11)Hue\\r\\n12)OD280/OD315 of diluted wines\\r\\n13)Proline \\r\\n\\r\\nIn a classification context, this is a well posed problem with \"well behaved\" class structures. A good data set for first testing of a new classifier, but not very challenging.           ', 'purpose': 'test', 'funded_by': None, 'instances_represent': None, 'recommended_data_splits': None, 'sensitive_data': None, 'preprocessing_description': None, 'variable_info': 'All attributes are continuous\\r\\n\\t\\r\\nNo statistics available, but suggest to standardise variables for certain uses (e.g. for us with classifiers which are NOT scale invariant)\\r\\n\\r\\nNOTE: 1st attribute is class identifier (1-3)', 'citation': None}}\n",
      "                            name     role         type demographic  \\\n",
      "0                          class   Target  Categorical        None   \n",
      "1                        Alcohol  Feature   Continuous        None   \n",
      "2                      Malicacid  Feature   Continuous        None   \n",
      "3                            Ash  Feature   Continuous        None   \n",
      "4              Alcalinity_of_ash  Feature   Continuous        None   \n",
      "5                      Magnesium  Feature      Integer        None   \n",
      "6                  Total_phenols  Feature   Continuous        None   \n",
      "7                     Flavanoids  Feature   Continuous        None   \n",
      "8           Nonflavanoid_phenols  Feature   Continuous        None   \n",
      "9                Proanthocyanins  Feature   Continuous        None   \n",
      "10               Color_intensity  Feature   Continuous        None   \n",
      "11                           Hue  Feature   Continuous        None   \n",
      "12  0D280_0D315_of_diluted_wines  Feature   Continuous        None   \n",
      "13                       Proline  Feature      Integer        None   \n",
      "\n",
      "   description units missing_values  \n",
      "0         None  None             no  \n",
      "1         None  None             no  \n",
      "2         None  None             no  \n",
      "3         None  None             no  \n",
      "4         None  None             no  \n",
      "5         None  None             no  \n",
      "6         None  None             no  \n",
      "7         None  None             no  \n",
      "8         None  None             no  \n",
      "9         None  None             no  \n",
      "10        None  None             no  \n",
      "11        None  None             no  \n",
      "12        None  None             no  \n",
      "13        None  None             no  \n"
     ]
    }
   ],
   "source": [
    "#import data set\n",
    "from ucimlrepo import fetch_ucirepo \n",
    "import pandas as pd\n",
    "  \n",
    "# fetch dataset \n",
    "wine = fetch_ucirepo(id=109) \n",
    "  \n",
    "# data (as pandas dataframes) \n",
    "X = wine.data.features \n",
    "y = wine.data.targets \n",
    "  \n",
    "# metadata \n",
    "print(wine.metadata) \n",
    "  \n",
    "# variable information \n",
    "print(wine.variables) \n",
    "\n",
    "\n"
   ]
  },
  {
   "cell_type": "code",
<<<<<<< HEAD
   "execution_count": 30,
=======
   "execution_count": 2,
>>>>>>> 8bd0d807a625a32ee9e0eb5cf495d6adc4fd70da
   "metadata": {},
   "outputs": [],
   "source": [
    "#isolate each constituent into a separate dataframe\n",
    "dfAlc = X.Alcohol\n",
    "dfMal = X.Malicacid\n",
    "dfAsh = X.Ash\n",
    "dfAlk = X.Alcalinity_of_ash\n",
    "dfMag = X.Magnesium\n",
    "dfPhe = X.Total_phenols\n",
    "dfFlv = X.Flavanoids\n",
    "dfNfv = X.Nonflavanoid_phenols\n",
    "dfPro = X.Proanthocyanins\n",
    "dfPrl = X.Proline\n",
    "\n"
   ]
  },
  {
   "cell_type": "code",
<<<<<<< HEAD
   "execution_count": 44,
=======
   "execution_count": 38,
>>>>>>> 8bd0d807a625a32ee9e0eb5cf495d6adc4fd70da
   "metadata": {},
   "outputs": [
    {
     "name": "stdout",
     "output_type": "stream",
     "text": [
<<<<<<< HEAD
      "     Alcohol  Malicacid       Ash  Ash Alkalinity   Magnesium  Total Phenols  \\\n",
      "0  13.744746   2.010678  2.455593       17.037288  106.338983       2.840169   \n",
      "1  12.282143   1.898857  2.242857       20.212857   94.757143       2.261143   \n",
      "2  13.132979   3.317447  2.430638       21.351064   99.382979       1.670851   \n",
      "\n",
      "   Flavanoids  Non-Flavanoids  Proanthocyanins      Proline  \n",
      "0    2.982373        0.290000         1.899322  1115.711864  \n",
      "1    2.085571        0.362857         1.634286   518.642857  \n",
      "2    0.781915        0.445106         1.149362   631.382979  \n"
=======
      "Series: Alcohol\n",
      "Series: Malic_acid\n",
      "Series: Ash\n",
      "Series: Alcalinity_of_ash\n",
      "Series: Magnesium\n",
      "Series: Total_phenols\n",
      "Series: Flavanoids\n",
      "Series: Nonflavanoid_phenols\n",
      "Series: Proanthocyanins\n",
      "Series: Proline\n",
      "           Alcohol  Malic_acid       Ash  Alcalinity_of_ash   Magnesium  \\\n",
      "Class 1  13.721833    1.992833  2.437333          16.930000  106.033333   \n",
      "Class 2  12.285634    1.938451  2.258310          20.342254   95.028169   \n",
      "Class 3  13.160000    3.375957  2.439574          21.489362   98.829787   \n",
      "\n",
      "         Total_phenols  Flavanoids  Nonflavanoid_phenols  Proanthocyanins  \\\n",
      "Class 1       2.825833    2.942167              0.289833         1.874667   \n",
      "Class 2       2.252254    2.090423              0.362676         1.637606   \n",
      "Class 3       1.682340    0.771489              0.452553         1.158085   \n",
      "\n",
      "             Proline  \n",
      "Class 1  1105.783333  \n",
      "Class 2   521.056338  \n",
      "Class 3   629.893617  \n"
>>>>>>> 8bd0d807a625a32ee9e0eb5cf495d6adc4fd70da
     ]
    }
   ],
   "source": [
<<<<<<< HEAD
    "#Find average conc for each constituent in each cultivator (0 = Cultivator 1, 1 = Cultivator 2, 2 = Cultivator 3)\n",
    "dataFrames = [dfAlc, dfMal, dfAsh, dfAlk, dfMag, dfPhe, dfFlv, dfNfv, dfPro, dfPrl]\n",
    "cult1 = []\n",
    "cult2 = []\n",
    "cult3 = []\n",
    "\n",
    "for x in dataFrames:\n",
    "    cult1.append((pd.Series(x, index = range(59))).mean())\n",
    "    cult2.append((pd.Series(x, index = range(59, 129))).mean())\n",
    "    cult3.append((pd.Series(x, index = range(130, 177))).mean())\n",
    "\n",
    "\n",
    "\n",
    "data = [cult1, cult2, cult3]\n",
    "\n",
    "averages = pd.DataFrame(data, columns=['Alcohol', 'Malicacid', 'Ash', 'Ash Alkalinity', 'Magnesium', 'Total Phenols',  'Flavanoids', 'Non-Flavanoids', 'Proanthocyanins', 'Proline'])\n",
    "                               \n",
    "\n",
    "print(averages)"
=======
    "'''cult1 = pd.Series(dfAlc, index = range(59))\n",
    "cult2 = pd.Series(dfAlc, index = range(60, 130))\n",
    "cult3 = pd.Series(dfAlc, index = range(131, 178))\n",
    "\n",
    "cult1\n",
    "average_value = cult1.mean()\n",
    "print(\"1st Class Alcohol Average:\", average_value)\n",
    "average_value = cult2.mean()\n",
    "print(\"2nd Class Alcohol Average:\", average_value)\n",
    "average_value = cult3.mean()\n",
    "print(\"3rd Class Alcohol Average:\", average_value)'''\n",
    "#previous code i left there just incase\n",
    "\n",
    "\n",
    "#creates a list of data frames, dataframes being the name of the list\n",
    "dataframes = [dfAlc, dfMal, dfAsh, dfAlk, dfMag, dfPhe, dfFlv, dfNfv, dfPro, dfPrl]\n",
    "\n",
    "#defines the ranges of indexes\n",
    "index_ranges = [(0, 59), (60, 130), (131, 178)]\n",
    "\n",
    "#this just creates labels for the averages\n",
    "class_labels = [\"Class 1\", \"Class 2\", \"Class 3\"]\n",
    "\n",
    "#creates another dataframe to store the average results\n",
    "result_df = pd.DataFrame(index=class_labels)\n",
    "\n",
    "# Iterate through each Series\n",
    "for dataframes, series in zip(['Alcohol', 'Malic_acid', 'Ash', 'Alcalinity_of_ash', 'Magnesium',\n",
    "                                'Total_phenols', 'Flavanoids', 'Nonflavanoid_phenols', 'Proanthocyanins', 'Proline'], dataframes):\n",
    "    print(f\"Series: {dataframes}\")  ##prints the names of the dataframes, the next commented out lines will print the indexes and values under the names\n",
    "    \n",
    "    # Iterate through the values of the series         ##comented out because these 4 lines print out each value of each index per series\n",
    "    #for index, value in series.items():\n",
    "        # Perform operations on each value as needed\n",
    "       # print(f\"Index: {index}, Value: {value}\")\n",
    "\n",
    "    # Iterate through the ranges and prints their averages\n",
    "    for i, (start, end) in enumerate(index_ranges):\n",
    "        avg_value = series.loc[start:end].mean()\n",
    "        result_df.loc[class_labels[i], dataframes] = avg_value\n",
    "\n",
    "\n",
    "print(result_df)\n"
>>>>>>> 8bd0d807a625a32ee9e0eb5cf495d6adc4fd70da
   ]
  }
 ],
 "metadata": {
  "kernelspec": {
   "display_name": "Python 3",
   "language": "python",
   "name": "python3"
  },
  "language_info": {
   "codemirror_mode": {
    "name": "ipython",
    "version": 3
   },
   "file_extension": ".py",
   "mimetype": "text/x-python",
   "name": "python",
   "nbconvert_exporter": "python",
   "pygments_lexer": "ipython3",
   "version": "3.11.5"
  }
 },
 "nbformat": 4,
 "nbformat_minor": 2
}
